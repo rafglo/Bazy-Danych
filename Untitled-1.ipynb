{
 "cells": [
  {
   "cell_type": "code",
   "execution_count": 10,
   "id": "be086fd9",
   "metadata": {},
   "outputs": [],
   "source": [
    "import numpy as np\n",
    "import pandas as pd\n",
    "import matplotlib.pyplot as plt\n",
    "from statsmodels.tsa.api import VAR\n",
    "from statsmodels.tsa.stattools import adfuller"
   ]
  },
  {
   "cell_type": "code",
   "execution_count": 11,
   "id": "eb7477dd",
   "metadata": {},
   "outputs": [],
   "source": [
    "np.random.seed(42)\n",
    "n = 200\n",
    "time = np.arange(n)"
   ]
  },
  {
   "cell_type": "code",
   "execution_count": 12,
   "id": "72999e95",
   "metadata": {},
   "outputs": [],
   "source": [
    "x1 = np.cumsum(np.random.normal(loc=0.2, scale=1.0, size=n))\n",
    "x2 = 0.5 * np.roll(x1, 1) + np.random.normal(loc=0.0, scale=1.0, size=n)\n",
    "x2[0] = x1[0]\n",
    "\n",
    "data = pd.DataFrame({\"X1\": x1, \"X2\": x2})"
   ]
  },
  {
   "cell_type": "code",
   "execution_count": 13,
   "id": "099a3006",
   "metadata": {},
   "outputs": [],
   "source": [
    "adf_x1 = adfuller(data[\"X1\"])\n",
    "adf_x2 = adfuller(data[\"X2\"])"
   ]
  },
  {
   "cell_type": "code",
   "execution_count": null,
   "id": "d2ec424c",
   "metadata": {},
   "outputs": [
    {
     "name": "stderr",
     "output_type": "stream",
     "text": [
      "c:\\Users\\rafal\\AppData\\Local\\Programs\\Python\\Python313\\Lib\\site-packages\\statsmodels\\tsa\\base\\tsa_model.py:473: ValueWarning: An unsupported index was provided. As a result, forecasts cannot be generated. To use the model for forecasting, use one of the supported classes of index.\n",
      "  self._init_dates(dates, freq)\n"
     ]
    }
   ],
   "source": [
    "data_diff = data.diff().dropna()\n",
    "\n",
    "model = VAR(data_diff)\n",
    "results = model.fit(maxlags=4, ic='aic')"
   ]
  },
  {
   "cell_type": "code",
   "execution_count": null,
   "id": "93609831",
   "metadata": {},
   "outputs": [],
   "source": [
    "forecast = results.forecast(data_diff.values[-results.k_ar:], steps=5)\n",
    "forecast_df = pd.DataFrame(forecast, columns=[\"X1_forecast\", \"X2_forecast\"])"
   ]
  },
  {
   "cell_type": "code",
   "execution_count": null,
   "id": "7f16ef1f",
   "metadata": {},
   "outputs": [
    {
     "data": {
      "text/plain": [
       "(            X1         X2\n",
       " 195  32.860701  15.668516\n",
       " 196  32.176843  14.717216\n",
       " 197  32.530569  17.442294\n",
       " 198  32.788777  16.150744\n",
       " 199  31.845807  17.632205,\n",
       "    X1_forecast  X2_forecast\n",
       " 0     0.658854    -1.538985\n",
       " 1    -0.018860     0.565733\n",
       " 2     0.231837     0.259593\n",
       " 3     0.164962     0.014560\n",
       " 4     0.162338     0.107627,\n",
       " 4,\n",
       " np.float64(0.977656433957561),\n",
       " np.float64(0.9896261471558939))"
      ]
     },
     "execution_count": 16,
     "metadata": {},
     "output_type": "execute_result"
    },
    {
     "ename": "",
     "evalue": "",
     "output_type": "error",
     "traceback": [
      "\u001b[1;31mThe Kernel crashed while executing code in the current cell or a previous cell. \n",
      "\u001b[1;31mPlease review the code in the cell(s) to identify a possible cause of the failure. \n",
      "\u001b[1;31mClick <a href='https://aka.ms/vscodeJupyterKernelCrash'>here</a> for more info. \n",
      "\u001b[1;31mView Jupyter <a href='command:jupyter.viewOutput'>log</a> for further details."
     ]
    }
   ],
   "source": [
    "results_summary = results.summary()\n",
    "results_lags = results.k_ar\n",
    "\n",
    "data.tail(), forecast_df, results_lags, adf_x1[1], adf_x2[1] "
   ]
  },
  {
   "cell_type": "code",
   "execution_count": null,
   "id": "3424e8b9",
   "metadata": {},
   "outputs": [],
   "source": []
  }
 ],
 "metadata": {
  "kernelspec": {
   "display_name": "Python 3",
   "language": "python",
   "name": "python3"
  },
  "language_info": {
   "codemirror_mode": {
    "name": "ipython",
    "version": 3
   },
   "file_extension": ".py",
   "mimetype": "text/x-python",
   "name": "python",
   "nbconvert_exporter": "python",
   "pygments_lexer": "ipython3",
   "version": "3.13.0"
  }
 },
 "nbformat": 4,
 "nbformat_minor": 5
}
